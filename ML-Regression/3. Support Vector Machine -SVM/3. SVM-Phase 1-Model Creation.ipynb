{
 "cells": [
  {
   "cell_type": "code",
   "execution_count": 1,
   "metadata": {},
   "outputs": [],
   "source": [
    "import pandas as pd"
   ]
  },
  {
   "cell_type": "code",
   "execution_count": 2,
   "metadata": {},
   "outputs": [],
   "source": [
    "dataset=pd.read_csv(\"50_Startups.csv\")"
   ]
  },
  {
   "cell_type": "code",
   "execution_count": 3,
   "metadata": {},
   "outputs": [],
   "source": [
    "dataset=pd.get_dummies(dataset,drop_first=True)"
   ]
  },
  {
   "cell_type": "code",
   "execution_count": 4,
   "metadata": {},
   "outputs": [
    {
     "data": {
      "text/plain": [
       "Index(['R&D Spend', 'Administration', 'Marketing Spend', 'Profit',\n",
       "       'State_Florida', 'State_New York'],\n",
       "      dtype='object')"
      ]
     },
     "execution_count": 4,
     "metadata": {},
     "output_type": "execute_result"
    }
   ],
   "source": [
    "dataset.columns"
   ]
  },
  {
   "cell_type": "code",
   "execution_count": 5,
   "metadata": {},
   "outputs": [],
   "source": [
    "independent=dataset[['R&D Spend','Administration','Marketing Spend','State_Florida','State_New York']]\n",
    "dependent=dataset[['Profit']]"
   ]
  },
  {
   "cell_type": "code",
   "execution_count": 6,
   "metadata": {},
   "outputs": [],
   "source": [
    "from sklearn.model_selection import train_test_split\n",
    "x_train,x_test,y_train,y_test=train_test_split(independent,dependent,test_size=0.30,random_state=0)"
   ]
  },
  {
   "cell_type": "code",
   "execution_count": 14,
   "metadata": {},
   "outputs": [],
   "source": [
    "#standardisation\n",
    "from sklearn.preprocessing import StandardScaler\n",
    "sc=StandardScaler()\n",
    "x_train=sc.fit_transform(x_train)\n",
    "x_test=sc.transform(x_test)"
   ]
  },
  {
   "cell_type": "code",
   "execution_count": 15,
   "metadata": {},
   "outputs": [
    {
     "data": {
      "text/plain": [
       "array([[ 1.17644103,  0.84515251,  0.94354978,  2.        , -0.76870611],\n",
       "       [ 0.96420324,  1.27283565,  0.42738817,  2.        , -0.76870611],\n",
       "       [-1.47369826,  0.0153175 , -1.52350329, -0.5       ,  1.30088727],\n",
       "       [-1.48308929, -2.79556363, -1.53809178, -0.5       ,  1.30088727],\n",
       "       [-0.14952431,  1.13637282, -0.71716495, -0.5       ,  1.30088727],\n",
       "       [ 0.85312042, -0.04431628,  0.46771725, -0.5       ,  1.30088727],\n",
       "       [-0.22353674, -0.3151007 , -0.83981652,  2.        , -0.76870611],\n",
       "       [-0.19454707,  0.21199679, -1.18497259, -0.5       , -0.76870611],\n",
       "       [ 0.10478723, -0.08388412,  0.48740807, -0.5       , -0.76870611],\n",
       "       [-1.0096458 , -1.07019473, -0.4040623 , -0.5       , -0.76870611],\n",
       "       [ 0.06872897, -0.38396487,  0.75036616, -0.5       , -0.76870611],\n",
       "       [-1.17638797,  0.14067421, -1.26581817, -0.5       ,  1.30088727],\n",
       "       [ 0.97648631,  0.9689421 ,  0.84958395, -0.5       ,  1.30088727],\n",
       "       [ 0.39131191,  0.45560401,  0.3979037 , -0.5       , -0.76870611],\n",
       "       [-0.16880669,  0.6131351 , -0.48098026, -0.5       , -0.76870611],\n",
       "       [ 1.2088001 , -0.92947267,  1.24226224, -0.5       ,  1.30088727],\n",
       "       [ 0.44593006,  0.82758768,  0.62707846, -0.5       ,  1.30088727],\n",
       "       [-0.90483959, -0.20234037, -0.21407884, -0.5       , -0.76870611],\n",
       "       [-1.49419935, -0.26298539, -1.19196207, -0.5       , -0.76870611],\n",
       "       [ 1.83846539,  1.07214791,  1.86319367, -0.5       , -0.76870611],\n",
       "       [ 0.42966802,  0.13827054,  0.37625394,  2.        , -0.76870611],\n",
       "       [-0.59092478, -2.81342077, -0.02839248, -0.5       , -0.76870611],\n",
       "       [ 0.08492419, -0.95017758, -0.46096486, -0.5       ,  1.30088727],\n",
       "       [ 1.26493068,  0.90993408, -0.55948669, -0.5       , -0.76870611],\n",
       "       [-0.11002675, -0.69903054,  0.79713886,  2.        , -0.76870611],\n",
       "       [-0.90669595,  0.12801572,  0.00300304,  2.        , -0.76870611],\n",
       "       [ 0.11250125,  1.16515207,  0.75858643, -0.5       ,  1.30088727],\n",
       "       [ 0.27709192,  1.15508553, -1.53809178, -0.5       ,  1.30088727],\n",
       "       [ 1.03371959, -0.585363  ,  0.79877008, -0.5       , -0.76870611],\n",
       "       [-0.70388936, -1.58289852, -0.19719396, -0.5       , -0.76870611],\n",
       "       [-1.46723718, -0.30831009,  0.73848951,  2.        , -0.76870611],\n",
       "       [ 1.46491286, -0.19745694,  1.39810017, -0.5       ,  1.30088727],\n",
       "       [ 1.89486118,  0.51005662,  2.07686138, -0.5       ,  1.30088727],\n",
       "       [-1.49419935,  0.4529585 , -1.53809178, -0.5       , -0.76870611],\n",
       "       [-1.0396359 ,  1.20524087, -1.32098255, -0.5       , -0.76870611]])"
      ]
     },
     "execution_count": 15,
     "metadata": {},
     "output_type": "execute_result"
    }
   ],
   "source": [
    "x_train"
   ]
  },
  {
   "cell_type": "code",
   "execution_count": 38,
   "metadata": {},
   "outputs": [
    {
     "name": "stderr",
     "output_type": "stream",
     "text": [
      "C:\\Users\\Ruban J\\Anaconda3\\lib\\site-packages\\sklearn\\utils\\validation.py:724: DataConversionWarning: A column-vector y was passed when a 1d array was expected. Please change the shape of y to (n_samples, ), for example using ravel().\n",
      "  y = column_or_1d(y, warn=True)\n"
     ]
    },
    {
     "data": {
      "text/plain": [
       "SVR(C=1.0, cache_size=200, coef0=0.0, degree=3, epsilon=0.1,\n",
       "    gamma='auto_deprecated', kernel='rbf', max_iter=-1, shrinking=True,\n",
       "    tol=0.001, verbose=False)"
      ]
     },
     "execution_count": 38,
     "metadata": {},
     "output_type": "execute_result"
    }
   ],
   "source": [
    "#Model Creation\n",
    "from sklearn.svm import SVR\n",
    "regressor=SVR(kernel='rbf')\n",
    "regressor.fit(x_train,y_train)"
   ]
  },
  {
   "cell_type": "code",
   "execution_count": 39,
   "metadata": {},
   "outputs": [
    {
     "data": {
      "text/plain": [
       "array([108734.04106363])"
      ]
     },
     "execution_count": 39,
     "metadata": {},
     "output_type": "execute_result"
    }
   ],
   "source": [
    "regressor.intercept_"
   ]
  },
  {
   "cell_type": "code",
   "execution_count": 40,
   "metadata": {},
   "outputs": [
    {
     "data": {
      "text/plain": [
       "array([         0, 1072693248])"
      ]
     },
     "execution_count": 40,
     "metadata": {},
     "output_type": "execute_result"
    }
   ],
   "source": [
    "regressor.n_support_"
   ]
  },
  {
   "cell_type": "code",
   "execution_count": 41,
   "metadata": {},
   "outputs": [
    {
     "data": {
      "text/plain": [
       "array([ 0,  1,  2,  3,  4,  5,  6,  7,  8,  9, 10, 11, 12, 13, 14, 15, 16,\n",
       "       17, 18, 19, 20, 21, 22, 23, 25, 26, 27, 28, 29, 30, 31, 32, 33, 34])"
      ]
     },
     "execution_count": 41,
     "metadata": {},
     "output_type": "execute_result"
    }
   ],
   "source": [
    "regressor.support_"
   ]
  },
  {
   "cell_type": "code",
   "execution_count": 42,
   "metadata": {},
   "outputs": [],
   "source": [
    "#evalute\n",
    "y_pred=regressor.predict(x_test)"
   ]
  },
  {
   "cell_type": "code",
   "execution_count": 43,
   "metadata": {},
   "outputs": [
    {
     "data": {
      "text/plain": [
       "-0.057418393916219834"
      ]
     },
     "execution_count": 43,
     "metadata": {},
     "output_type": "execute_result"
    }
   ],
   "source": [
    "from sklearn.metrics import r2_score\n",
    "r_score=r2_score(y_test,y_pred)\n",
    "r_score"
   ]
  },
  {
   "cell_type": "code",
   "execution_count": null,
   "metadata": {},
   "outputs": [],
   "source": []
  }
 ],
 "metadata": {
  "kernelspec": {
   "display_name": "Python 3",
   "language": "python",
   "name": "python3"
  },
  "language_info": {
   "codemirror_mode": {
    "name": "ipython",
    "version": 3
   },
   "file_extension": ".py",
   "mimetype": "text/x-python",
   "name": "python",
   "nbconvert_exporter": "python",
   "pygments_lexer": "ipython3",
   "version": "3.7.4"
  }
 },
 "nbformat": 4,
 "nbformat_minor": 2
}
